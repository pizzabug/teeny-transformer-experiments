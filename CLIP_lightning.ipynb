{
 "cells": [
  {
   "attachments": {},
   "cell_type": "markdown",
   "metadata": {},
   "source": [
    "## Seeing whether we can use the CLIP model with Lightning\n",
    "Lightning handles the training loop, logging, and more. It's a great tool for training models. Let's see if we can use it with CLIP.\n",
    "\n",
    "### Defining CLIP in a `pl.LightningModule` by reference only\n",
    "Time to use CLIP as a part of a `LightningModule`, since `open_clip.create_model_and_transforms` is a factory for `CLIP (nn.Module)`. See [model.py](https://github.com/mlfoundations/open_clip/blob/main/src/open_clip/model.py#L155)."
   ]
  },
  {
   "cell_type": "code",
   "execution_count": 20,
   "metadata": {},
   "outputs": [],
   "source": [
    "import open_clip\n",
    "import pytorch_lightning as pl\n",
    "import torch\n",
    "import torch.nn as nn\n",
    "\n",
    "from torch import Tensor\n",
    "from torch.nn import functional as F\n",
    "from torch.utils.data import DataLoader\n",
    "from torch.utils.data import random_split\n",
    "\n",
    "\n",
    "class CringeCLIPModel(pl.LightningModule):\n",
    "    \"\"\"\n",
    "        CringeCLIP\n",
    "    \"\"\"\n",
    "\n",
    "    def __init__(self, model_type=\"RN50\", hparams=None, has_cross_attention=False, img_dim=512):\n",
    "        super().__init__()\n",
    "\n",
    "        self.clip_module, _, self.preprocess = open_clip.create_model_and_transforms(\"RN50\") # type: ignore\n",
    "        self.clip_module.load_state_dict(torch.load(\"rn50-quickgelu-yfcc15m.pt\"))\n",
    "        self.tokenizer = open_clip.get_tokenizer(\"RN50\") # type: ignore\n",
    "\n",
    "    def forward(self, text = None, image = None):\n",
    "        if (text is None) and (image is None):\n",
    "            raise ValueError(\"Must provide either text or image\")\n",
    "        \n",
    "        elif image is not None:\n",
    "            x = self.clip_module.encode_image(image)\n",
    "            x /= x.norm(dim=-1, keepdim=True)\n",
    "            return x\n",
    "\n",
    "        elif text is not None:\n",
    "            x = self.clip_module.encode_text(text)\n",
    "            x /= x.norm(dim=-1, keepdim=True)\n",
    "            return x\n",
    "\n",
    "\n",
    "    def configure_optimizers(self):\n",
    "        \"\"\"\n",
    "            configure_optimizers\n",
    "\n",
    "            This is the optimizer for the model.\n",
    "        \"\"\"\n",
    "        optimizer = torch.optim.Adam(self.parameters(), lr=5e-5)\n",
    "        return optimizer\n",
    "\n",
    "    def training_step(self, train_batch, batch_idx):\n",
    "        text, output = train_batch\n",
    "        y = self.forward(text=text)\n",
    "        loss = F.mse_loss(y, output)\n",
    "\n",
    "        return loss\n",
    "    \n",
    "    def validation_step(self, train_batch, batch_idx):\n",
    "        text, output = train_batch\n",
    "        y = self.forward(text=text)\n",
    "        loss = F.mse_loss(y, output)\n",
    "\n",
    "        return loss\n",
    "        \n",
    "\n",
    "    "
   ]
  },
  {
   "attachments": {},
   "cell_type": "markdown",
   "metadata": {},
   "source": [
    "### Load `YFCC15M` pretrained model\n",
    "\n",
    "Loading the pretrained model."
   ]
  },
  {
   "cell_type": "code",
   "execution_count": 21,
   "metadata": {},
   "outputs": [],
   "source": [
    "# Define the model\n",
    "model = CringeCLIPModel()"
   ]
  },
  {
   "attachments": {},
   "cell_type": "markdown",
   "metadata": {},
   "source": [
    "### Infer `YFCC15M` pretrained model\n",
    "\n",
    "Inferring from the pretrained model."
   ]
  },
  {
   "cell_type": "code",
   "execution_count": 22,
   "metadata": {},
   "outputs": [
    {
     "name": "stdout",
     "output_type": "stream",
     "text": [
      "tensor([[-0.0199,  0.0126,  0.0156,  ...,  0.0032,  0.0122,  0.0059]],\n",
      "       grad_fn=<DivBackward0>)\n"
     ]
    }
   ],
   "source": [
    "example_output = model.forward(text = model.tokenizer([\"a photo of a cat\",]))\n",
    "print(x)"
   ]
  },
  {
   "attachments": {},
   "cell_type": "markdown",
   "metadata": {},
   "source": [
    "### Dump the model\n",
    "Now that we've got the model loaded, let's dump it to a file. 😂\n",
    "\n",
    "First, we need a dummy input to pass to the model. We'll use random text and images.\n",
    "\n",
    "Then we train for not even one step, then we save the model."
   ]
  },
  {
   "cell_type": "code",
   "execution_count": 24,
   "metadata": {},
   "outputs": [
    {
     "name": "stderr",
     "output_type": "stream",
     "text": [
      "GPU available: True (cuda), used: False\n",
      "TPU available: False, using: 0 TPU cores\n",
      "IPU available: False, using: 0 IPUs\n",
      "HPU available: False, using: 0 HPUs\n",
      "/home/huey/miniconda3/envs/teeny/lib/python3.10/site-packages/pytorch_lightning/trainer/setup.py:175: PossibleUserWarning: GPU available but not used. Set `accelerator` and `devices` using `Trainer(accelerator='gpu', devices=1)`.\n",
      "  rank_zero_warn(\n",
      "Missing logger folder: /mnt/e/Source/teeny-transformer-experiments/lightning_logs\n",
      "\n",
      "  | Name        | Type | Params\n",
      "-------------------------------------\n",
      "0 | clip_module | CLIP | 102 M \n",
      "-------------------------------------\n",
      "102 M     Trainable params\n",
      "0         Non-trainable params\n",
      "102 M     Total params\n",
      "408.029   Total estimated model params size (MB)\n"
     ]
    },
    {
     "name": "stdout",
     "output_type": "stream",
     "text": [
      "Sanity Checking DataLoader 0:   0%|          | 0/2 [00:00<?, ?it/s]"
     ]
    },
    {
     "name": "stderr",
     "output_type": "stream",
     "text": [
      "/home/huey/miniconda3/envs/teeny/lib/python3.10/site-packages/pytorch_lightning/trainer/connectors/data_connector.py:224: PossibleUserWarning: The dataloader, val_dataloader 0, does not have many workers which may be a bottleneck. Consider increasing the value of the `num_workers` argument` (try 12 which is the number of cpus on this machine) in the `DataLoader` init to improve performance.\n",
      "  rank_zero_warn(\n"
     ]
    },
    {
     "name": "stdout",
     "output_type": "stream",
     "text": [
      "                                                                           "
     ]
    },
    {
     "name": "stderr",
     "output_type": "stream",
     "text": [
      "`Trainer.fit` stopped: `max_steps=0` reached.\n"
     ]
    },
    {
     "name": "stdout",
     "output_type": "stream",
     "text": [
      "\r"
     ]
    }
   ],
   "source": [
    "import numpy as np\n",
    "import torch\n",
    "\n",
    "from torch.utils.data import Dataset\n",
    "\n",
    "class DummyDataset(Dataset):\n",
    "    def __init__(self):\n",
    "        super().__init__()\n",
    "        self.constant = 2\n",
    "        self.batch_size = 20\n",
    "        \n",
    "    def __len__(self):\n",
    "        return 100\n",
    "\n",
    "    def __getitem__(self, idx):\n",
    "        text = model.tokenizer([\"a photo of a cat\",]).squeeze(0)\n",
    "        output = torch.randn(example_output.size()).squeeze(0)\n",
    "        \n",
    "        return text, output\n",
    "\n",
    "dataset = DummyDataset()    \n",
    "training_set, validation_set = torch.utils.data.random_split(dataset, [int(len(dataset)*0.8), int(len(dataset)*0.2)])\n",
    "train_loader = DataLoader(training_set, batch_size=10)\n",
    "val_loader = DataLoader(validation_set, batch_size=10)\n",
    "\n",
    "\n",
    "model_trainer = pl.Trainer(max_steps=0)\n",
    "model_trainer.fit(model, train_loader, val_loader)\n",
    "model_trainer.save_checkpoint(\"cringe_clip.ckpt\")"
   ]
  },
  {
   "attachments": {},
   "cell_type": "markdown",
   "metadata": {},
   "source": [
    "### Confirm the model is saved and working!\n",
    "Now, let's try this new model with the new definition."
   ]
  },
  {
   "cell_type": "code",
   "execution_count": 26,
   "metadata": {},
   "outputs": [],
   "source": [
    "import open_clip\n",
    "import pytorch_lightning as pl\n",
    "import torch\n",
    "import torch.nn as nn\n",
    "\n",
    "from torch import Tensor\n",
    "from torch.nn import functional as F\n",
    "from torch.utils.data import DataLoader\n",
    "from torch.utils.data import random_split\n",
    "\n",
    "\n",
    "class CringeCLIPModel(pl.LightningModule):\n",
    "    \"\"\"\n",
    "        CringeCLIP\n",
    "    \"\"\"\n",
    "\n",
    "    def __init__(self, model_type=\"RN50\", hparams=None, has_cross_attention=False, img_dim=512):\n",
    "        super().__init__()\n",
    "\n",
    "        self.clip_module, _, self.preprocess = open_clip.create_model_and_transforms(\"RN50\") # type: ignore\n",
    "        self.tokenizer = open_clip.get_tokenizer(\"RN50\") # type: ignore\n",
    "\n",
    "    def forward(self, text = None, image = None):\n",
    "        if (text is None) and (image is None):\n",
    "            raise ValueError(\"Must provide either text or image\")\n",
    "        \n",
    "        elif image is not None:\n",
    "            x = self.clip_module.encode_image(image)\n",
    "            x /= x.norm(dim=-1, keepdim=True)\n",
    "            return x\n",
    "\n",
    "        elif text is not None:\n",
    "            x = self.clip_module.encode_text(text)\n",
    "            x /= x.norm(dim=-1, keepdim=True)\n",
    "            return x\n",
    "\n",
    "\n",
    "    def configure_optimizers(self):\n",
    "        \"\"\"\n",
    "            configure_optimizers\n",
    "\n",
    "            This is the optimizer for the model.\n",
    "        \"\"\"\n",
    "        optimizer = torch.optim.Adam(self.parameters(), lr=5e-5)\n",
    "        return optimizer\n",
    "\n",
    "    def training_step(self, train_batch, batch_idx):\n",
    "        text, output = train_batch\n",
    "        y = self.forward(text=text)\n",
    "        loss = F.mse_loss(y, output)\n",
    "\n",
    "        return loss\n",
    "    \n",
    "    def validation_step(self, train_batch, batch_idx):\n",
    "        text, output = train_batch\n",
    "        y = self.forward(text=text)\n",
    "        loss = F.mse_loss(y, output)\n",
    "\n",
    "        return loss\n",
    "    "
   ]
  },
  {
   "attachments": {},
   "cell_type": "markdown",
   "metadata": {},
   "source": [
    "Then the inference."
   ]
  },
  {
   "cell_type": "code",
   "execution_count": 27,
   "metadata": {},
   "outputs": [
    {
     "name": "stdout",
     "output_type": "stream",
     "text": [
      "tensor([[-0.0199,  0.0126,  0.0156,  ...,  0.0032,  0.0122,  0.0059]],\n",
      "       grad_fn=<DivBackward0>)\n"
     ]
    }
   ],
   "source": [
    "# Define the model\n",
    "model = CringeCLIPModel()\n",
    "# Load it in\n",
    "model.load_state_dict(torch.load(\"cringe_clip.ckpt\")[\"state_dict\"])\n",
    "\n",
    "# All hell breaks loose?\n",
    "example_output = model.forward(text = model.tokenizer([\"a photo of a cat\",]))\n",
    "print(example_output)"
   ]
  }
 ],
 "metadata": {
  "kernelspec": {
   "display_name": "teeny",
   "language": "python",
   "name": "python3"
  },
  "language_info": {
   "codemirror_mode": {
    "name": "ipython",
    "version": 3
   },
   "file_extension": ".py",
   "mimetype": "text/x-python",
   "name": "python",
   "nbconvert_exporter": "python",
   "pygments_lexer": "ipython3",
   "version": "3.10.8"
  },
  "orig_nbformat": 4,
  "vscode": {
   "interpreter": {
    "hash": "ac91e5a7d41f06b71cc19fdddcc5ca14fed1395cef74a8d616c800da807fd870"
   }
  }
 },
 "nbformat": 4,
 "nbformat_minor": 2
}
